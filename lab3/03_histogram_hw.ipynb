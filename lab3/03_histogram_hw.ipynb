{
 "cells": [
  {
   "cell_type": "markdown",
   "metadata": {
    "collapsed": false,
    "id": "4Fbe36eKPM0s",
    "jupyter": {
     "outputs_hidden": false
    }
   },
   "source": [
    "## Zadanie domowe: BBHE i DSIHE\n",
    "\n",
    "W klasycznym wyrównywaniu histogramu HE  po wykonaniu operacji jasność obrazu ulega zmianie.\n",
    "Dało się to zaobserwować podczas przeprowadzonych eksperymentów.\n",
    "Jeśli nie to należy uruchomić skrypt z sekcji A i zwrócić na to uwagę.\n",
    "Średnia jasność dąży do środkowego poziomu szarości.\n",
    "Jest to wada i dlatego klasyczne HE ma ograniczone zastosowanie.\n",
    "\n",
    "Powstało sporo metod, które eliminują to niekorzystne zjawisko.\n",
    "Najprostsze z nich polegają na dekompozycji obrazu wejściowego na dwa podobrazy (wg. pewnego kryterium).\n",
    "Następnie operacja HE wykonywana jest dla tych podobrazów.\n",
    "\n",
    "Dwie znane z literatury metody to:\n",
    "- Bi-Histogram Equalization\n",
    "- DSIHE - Dualistic Sub-Image Histogram Equalization\n",
    "\n",
    "W metodzie BBHE za kryterium podziału przyjmuje się średnią jasność w obrazie.\n",
    "W DSIHE obraz dzieli się na dwa podobrazy o takiej samej liczbie pikseli (jaśniejszych i ciemniejszych).\n",
    "\n",
    "W ramach zadania należy zaimplementować wybraną metodę: BBHE lub DSIHE (ew. obie).\n",
    "\n",
    "1. Wczytaj obraz *jet.bmp* i wylicz jego histogram.\n",
    "2. W kolejnym kroku należy wyznaczyć próg podziału obrazu na dwa podobrazy (*lm*).\n",
    "3. Dla BBHE wyznacz średnią jasność obrazu. Dla DSIHE można wykorzystać histogram skumulowany.\n",
    "Należy znaleźć poziom jasności który znajduje się \"w połowie\" histogramu skumulowanego.\n",
    "W tym celu warto stworzyć tablicę, zawierającą moduł histogramu skumulowanego pomniejszonego o połowę liczby pikseli.\n",
    "Następnie znaleźć minimum - `np.argmin`.\n",
    "4. Dalej należy podzielić histogram oryginalnego obrazu na dwa histogramy *H1* i *H2*.\n",
    "Dla każdego z nich wyliczyć histogram skumulowany ($C_1$ i $C_2$) i wykonać normalizację.\n",
    "Normalizacja polega na podzieleniu każdego histogramu przez jego największy element.\n",
    "5. Na podstawie histogramów skumulowanych należy stworzyć przekształcenie LUT.\n",
    "Należy tak przeskalować $C_1$ i $C_2$, aby uzyskać jednorodne przekształcenie.\n",
    "Tablicę $C_1$ wystarczy pomnożyć przez próg podziału.\n",
    "Tablicę $C_2$ należy przeskalować do przedziału: $<lm+1; 255>$, gdzie $lm$ jest progiem podziału.<br>\n",
    "$C_{1n} = (lm)*C1;$<br>\n",
    "$C_{2n} = lm+1 + (255-lm-1)*C2;$<br>\n",
    "Następnie dwie części tablicy przekodowań należy połączyć.\n",
    "6. Ostatecznie należy wykonać operację LUT i wyświetlić wynik wyrównywania histogramu.\n",
    "Porównaj wynik operacji BBHE lub DSIHE z klasycznym HE."
   ]
  },
  {
   "cell_type": "code",
   "execution_count": null,
   "metadata": {
    "id": "c2Q0bFkqPM0v",
    "pycharm": {
     "name": "#%% Zadanie domowe - BBHE\n"
    }
   },
   "outputs": [],
   "source": [
    "import cv2\n",
    "import os\n",
    "import requests\n",
    "from matplotlib import pyplot as plt\n",
    "import numpy as np\n",
    "url = 'https://raw.githubusercontent.com/vision-agh/poc_sw/master/03_Histogram/'\n",
    "fileName = 'jet.bmp'\n",
    "if not os.path.exists(fileName) :\n",
    "    r = requests.get(url + fileName, allow_redirects=True)\n",
    "    open(fileName, 'wb').write(r.content)"
   ]
  },
  {
   "cell_type": "code",
   "execution_count": null,
   "metadata": {
    "id": "KPTV1fMpPM0y",
    "pycharm": {
     "name": "#%% Zadanie domowe - DSIHE\n"
    }
   },
   "outputs": [],
   "source": [
    "image = cv2.imread('jet.bmp',cv2.IMREAD_GRAYSCALE)\n",
    "plt.imshow(image,cmap=\"gray\")\n",
    "mean = cv2.mean(image)\n",
    "mean = list(mean)[0]\n",
    "print(mean)"
   ]
  },
  {
   "cell_type": "code",
   "execution_count": null,
   "metadata": {},
   "outputs": [],
   "source": [
    "hist = cv2.calcHist([image],[0],None,[256],[0,256])\n",
    "hist1=hist[:int(mean)]\n",
    "hist2=hist[int(mean):]"
   ]
  },
  {
   "cell_type": "code",
   "execution_count": null,
   "metadata": {},
   "outputs": [],
   "source": [
    "plt.plot(hist1)\n",
    "cum_hist_1=np.cumsum(hist1)\n",
    "plt.plot(cum_hist_1)\n",
    "plt.show()\n",
    "plt.plot(hist2)\n",
    "cum_hist_2=np.cumsum(hist2)\n",
    "plt.plot(cum_hist_2)\n",
    "plt.show()"
   ]
  },
  {
   "cell_type": "code",
   "execution_count": null,
   "metadata": {},
   "outputs": [],
   "source": [
    "norm_cum_hist_1=cum_hist_1/np.max(cum_hist_1)\n",
    "norm_cum_hist_2=cum_hist_2/np.max(cum_hist_2)"
   ]
  },
  {
   "cell_type": "code",
   "execution_count": null,
   "metadata": {},
   "outputs": [],
   "source": [
    "c1=int(mean)*norm_cum_hist_1\n",
    "c2=int(mean)+1+(255-int(mean)-1)*norm_cum_hist_2\n",
    "print(c1.shape)\n"
   ]
  },
  {
   "cell_type": "code",
   "execution_count": null,
   "metadata": {},
   "outputs": [],
   "source": [
    "c=np.concatenate((c1,c2))"
   ]
  },
  {
   "cell_type": "code",
   "execution_count": null,
   "metadata": {},
   "outputs": [],
   "source": [
    "c=c.astype(\"uint8\")"
   ]
  },
  {
   "cell_type": "code",
   "execution_count": null,
   "metadata": {},
   "outputs": [],
   "source": [
    "c.shape"
   ]
  },
  {
   "cell_type": "code",
   "execution_count": null,
   "metadata": {},
   "outputs": [],
   "source": [
    "img = cv2.LUT(image,c,None)\n",
    "# plt.imshow(img)"
   ]
  },
  {
   "cell_type": "code",
   "execution_count": null,
   "metadata": {},
   "outputs": [],
   "source": [
    "img = cv2.LUT(image,c,None)"
   ]
  },
  {
   "cell_type": "code",
   "execution_count": null,
   "metadata": {},
   "outputs": [],
   "source": [
    "plt.imshow(img,cmap=\"gray\")\n",
    "plt.show()\n",
    "plt.imshow(image,cmap=\"gray\")\n",
    "plt.show()"
   ]
  },
  {
   "cell_type": "code",
   "execution_count": null,
   "metadata": {},
   "outputs": [],
   "source": []
  }
 ],
 "metadata": {
  "colab": {
   "collapsed_sections": [],
   "provenance": []
  },
  "kernelspec": {
   "display_name": "Python 3 (ipykernel)",
   "language": "python",
   "name": "python3"
  },
  "language_info": {
   "codemirror_mode": {
    "name": "ipython",
    "version": 3
   },
   "file_extension": ".py",
   "mimetype": "text/x-python",
   "name": "python",
   "nbconvert_exporter": "python",
   "pygments_lexer": "ipython3",
   "version": "3.8.0"
  }
 },
 "nbformat": 4,
 "nbformat_minor": 4
}
